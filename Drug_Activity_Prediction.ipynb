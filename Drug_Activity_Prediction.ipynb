{
 "cells": [
  {
   "cell_type": "code",
   "execution_count": 2,
   "metadata": {},
   "outputs": [],
   "source": [
    "import pandas as pd\n",
    "import numpy as np"
   ]
  },
  {
   "cell_type": "code",
   "execution_count": 3,
   "metadata": {},
   "outputs": [],
   "source": [
    "def load_data(train, test, valid_labels):\n",
    "    features = set()\n",
    "    train_m = 0\n",
    "    test_m = 0\n",
    "\n",
    "    train_dataset = np.zeros(shape=(1000, 100002))\n",
    "    test_dataset = np.zeros(shape=(1000, 100002))\n",
    "\n",
    "    with open(train) as f:\n",
    "        for i, line in enumerate(f):\n",
    "            train_m += 1\n",
    "            \n",
    "            l = line.strip().split('\\t')\n",
    "\n",
    "            train_dataset[i, 0] = int(l[0])\n",
    "            # features set for later deletion null\n",
    "            for x in l[1].split():\n",
    "                features.add(int(x))\n",
    "                train_dataset[i ,int(x) + 1] = 1\n",
    "\n",
    "    test_labels = []\n",
    "    with open(valid_labels) as f:\n",
    "        for line in f:\n",
    "            test_labels.append(int(line.strip()))\n",
    "\n",
    "    with open(test) as f:\n",
    "        for i, line in enumerate(f):\n",
    "            test_m += 1\n",
    "            \n",
    "            test_dataset[i, 0] = int(test_labels[i])\n",
    "\n",
    "            #  features set for later deleting null\n",
    "            for x in line.strip().split():\n",
    "                features.add(int(x))\n",
    "                test_dataset[i ,int(x) + 1] = 1\n",
    "\n",
    "\n",
    "\n",
    "\n",
    "    # cleaning dataset a bit\n",
    "    train_dataset = np.delete(train_dataset,slice(train_m, 1000), 0)\n",
    "    test_dataset = np.delete(test_dataset,slice(test_m, 1000), 0)\n",
    "\n",
    "    not_features = {x for x in range(10000)} - features\n",
    "\n",
    "    not_features = list(map(lambda x: x+1, not_features))\n",
    "    \n",
    "    \n",
    "    train_dataset = np.delete(train_dataset,not_features, 1)\n",
    "    test_dataset = np.delete(test_dataset,not_features, 1)    \n",
    "\n",
    "    return train_dataset, test_dataset       \n"
   ]
  },
  {
   "cell_type": "code",
   "execution_count": 4,
   "metadata": {},
   "outputs": [
    {
     "data": {
      "text/plain": [
       "1.0"
      ]
     },
     "execution_count": 4,
     "metadata": {},
     "output_type": "execute_result"
    }
   ],
   "source": [
    "train_data, test_data = load_data('train.dat', 'test.dat', 'valid_labels.dat')\n",
    "\n",
    "train_x, train_y = train_data[:, 1:], train_data[:, 0]\n",
    "test_x, test_y = test_data[:, 1:], test_data[:, 0]\n",
    "\n",
    "test_data[2, 0]\n",
    "\n"
   ]
  },
  {
   "cell_type": "code",
   "execution_count": 30,
   "metadata": {},
   "outputs": [
    {
     "data": {
      "text/html": [
       "<style>#sk-container-id-7 {color: black;background-color: white;}#sk-container-id-7 pre{padding: 0;}#sk-container-id-7 div.sk-toggleable {background-color: white;}#sk-container-id-7 label.sk-toggleable__label {cursor: pointer;display: block;width: 100%;margin-bottom: 0;padding: 0.3em;box-sizing: border-box;text-align: center;}#sk-container-id-7 label.sk-toggleable__label-arrow:before {content: \"▸\";float: left;margin-right: 0.25em;color: #696969;}#sk-container-id-7 label.sk-toggleable__label-arrow:hover:before {color: black;}#sk-container-id-7 div.sk-estimator:hover label.sk-toggleable__label-arrow:before {color: black;}#sk-container-id-7 div.sk-toggleable__content {max-height: 0;max-width: 0;overflow: hidden;text-align: left;background-color: #f0f8ff;}#sk-container-id-7 div.sk-toggleable__content pre {margin: 0.2em;color: black;border-radius: 0.25em;background-color: #f0f8ff;}#sk-container-id-7 input.sk-toggleable__control:checked~div.sk-toggleable__content {max-height: 200px;max-width: 100%;overflow: auto;}#sk-container-id-7 input.sk-toggleable__control:checked~label.sk-toggleable__label-arrow:before {content: \"▾\";}#sk-container-id-7 div.sk-estimator input.sk-toggleable__control:checked~label.sk-toggleable__label {background-color: #d4ebff;}#sk-container-id-7 div.sk-label input.sk-toggleable__control:checked~label.sk-toggleable__label {background-color: #d4ebff;}#sk-container-id-7 input.sk-hidden--visually {border: 0;clip: rect(1px 1px 1px 1px);clip: rect(1px, 1px, 1px, 1px);height: 1px;margin: -1px;overflow: hidden;padding: 0;position: absolute;width: 1px;}#sk-container-id-7 div.sk-estimator {font-family: monospace;background-color: #f0f8ff;border: 1px dotted black;border-radius: 0.25em;box-sizing: border-box;margin-bottom: 0.5em;}#sk-container-id-7 div.sk-estimator:hover {background-color: #d4ebff;}#sk-container-id-7 div.sk-parallel-item::after {content: \"\";width: 100%;border-bottom: 1px solid gray;flex-grow: 1;}#sk-container-id-7 div.sk-label:hover label.sk-toggleable__label {background-color: #d4ebff;}#sk-container-id-7 div.sk-serial::before {content: \"\";position: absolute;border-left: 1px solid gray;box-sizing: border-box;top: 0;bottom: 0;left: 50%;z-index: 0;}#sk-container-id-7 div.sk-serial {display: flex;flex-direction: column;align-items: center;background-color: white;padding-right: 0.2em;padding-left: 0.2em;position: relative;}#sk-container-id-7 div.sk-item {position: relative;z-index: 1;}#sk-container-id-7 div.sk-parallel {display: flex;align-items: stretch;justify-content: center;background-color: white;position: relative;}#sk-container-id-7 div.sk-item::before, #sk-container-id-7 div.sk-parallel-item::before {content: \"\";position: absolute;border-left: 1px solid gray;box-sizing: border-box;top: 0;bottom: 0;left: 50%;z-index: -1;}#sk-container-id-7 div.sk-parallel-item {display: flex;flex-direction: column;z-index: 1;position: relative;background-color: white;}#sk-container-id-7 div.sk-parallel-item:first-child::after {align-self: flex-end;width: 50%;}#sk-container-id-7 div.sk-parallel-item:last-child::after {align-self: flex-start;width: 50%;}#sk-container-id-7 div.sk-parallel-item:only-child::after {width: 0;}#sk-container-id-7 div.sk-dashed-wrapped {border: 1px dashed gray;margin: 0 0.4em 0.5em 0.4em;box-sizing: border-box;padding-bottom: 0.4em;background-color: white;}#sk-container-id-7 div.sk-label label {font-family: monospace;font-weight: bold;display: inline-block;line-height: 1.2em;}#sk-container-id-7 div.sk-label-container {text-align: center;}#sk-container-id-7 div.sk-container {/* jupyter's `normalize.less` sets `[hidden] { display: none; }` but bootstrap.min.css set `[hidden] { display: none !important; }` so we also need the `!important` here to be able to override the default hidden behavior on the sphinx rendered scikit-learn.org. See: https://github.com/scikit-learn/scikit-learn/issues/21755 */display: inline-block !important;position: relative;}#sk-container-id-7 div.sk-text-repr-fallback {display: none;}</style><div id=\"sk-container-id-7\" class=\"sk-top-container\"><div class=\"sk-text-repr-fallback\"><pre>PCA(n_components=450)</pre><b>In a Jupyter environment, please rerun this cell to show the HTML representation or trust the notebook. <br />On GitHub, the HTML representation is unable to render, please try loading this page with nbviewer.org.</b></div><div class=\"sk-container\" hidden><div class=\"sk-item\"><div class=\"sk-estimator sk-toggleable\"><input class=\"sk-toggleable__control sk-hidden--visually\" id=\"sk-estimator-id-7\" type=\"checkbox\" checked><label for=\"sk-estimator-id-7\" class=\"sk-toggleable__label sk-toggleable__label-arrow\">PCA</label><div class=\"sk-toggleable__content\"><pre>PCA(n_components=450)</pre></div></div></div></div></div>"
      ],
      "text/plain": [
       "PCA(n_components=450)"
      ]
     },
     "execution_count": 30,
     "metadata": {},
     "output_type": "execute_result"
    }
   ],
   "source": [
    "\n",
    "\n",
    "from sklearn.decomposition import PCA\n",
    "\n",
    "pca = PCA(n_components=450)\n",
    "pca.fit(train_x)\n"
   ]
  },
  {
   "cell_type": "code",
   "execution_count": 31,
   "metadata": {},
   "outputs": [
    {
     "name": "stdout",
     "output_type": "stream",
     "text": [
      "1 's in test: 34.0\n",
      "1 's in predicted: 27.0\n",
      "F1 Score : 0.3278688524590164\n"
     ]
    }
   ],
   "source": [
    "from sklearn.naive_bayes import GaussianNB\n",
    "from sklearn.metrics import f1_score\n",
    "train_x_pca = pca.transform(train_x)\n",
    "test_x_pca = pca.transform(test_x)\n",
    "\n",
    "gnb = GaussianNB()\n",
    "gnb.fit(train_x_pca, train_y)\n",
    "\n",
    "y_pred = gnb.predict(test_x_pca)\n",
    "\n",
    "\n",
    "print(\"1 's in test:\", test_y.sum())\n",
    "print(\"1 's in predicted:\", y_pred.sum())\n",
    "\n",
    "print(\"F1 Score :\",f1_score( test_y, y_pred))\n",
    "# FIX ME"
   ]
  }
 ],
 "metadata": {
  "kernelspec": {
   "display_name": "Python 3.10.6 64-bit",
   "language": "python",
   "name": "python3"
  },
  "language_info": {
   "codemirror_mode": {
    "name": "ipython",
    "version": 3
   },
   "file_extension": ".py",
   "mimetype": "text/x-python",
   "name": "python",
   "nbconvert_exporter": "python",
   "pygments_lexer": "ipython3",
   "version": "3.10.6"
  },
  "orig_nbformat": 4,
  "vscode": {
   "interpreter": {
    "hash": "6397bbcc4576163c68bf07a0a0352b5e88b814a978e2f67fad4e5577cec6be09"
   }
  }
 },
 "nbformat": 4,
 "nbformat_minor": 2
}
