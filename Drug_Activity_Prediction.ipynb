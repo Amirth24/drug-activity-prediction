{
 "cells": [
  {
   "cell_type": "code",
   "execution_count": 5,
   "metadata": {},
   "outputs": [],
   "source": [
    "import pandas as pd\n",
    "import numpy as np"
   ]
  },
  {
   "cell_type": "code",
   "execution_count": 145,
   "metadata": {},
   "outputs": [],
   "source": [
    "def load_data(train, test, valid_labels):\n",
    "    features = set()\n",
    "    train_m = 0\n",
    "    test_m = 0\n",
    "\n",
    "    train_dataset = np.zeros(shape=(1000, 100002))\n",
    "    test_dataset = np.zeros(shape=(1000, 100002))\n",
    "\n",
    "    with open(train) as f:\n",
    "        for i, line in enumerate(f):\n",
    "            train_m += 1\n",
    "            \n",
    "            l = line.strip().split('\\t')\n",
    "\n",
    "            train_dataset[i, 0] = int(l[0])\n",
    "            # features set for later deletion null\n",
    "            for x in l[1].split():\n",
    "                features.add(int(x))\n",
    "                train_dataset[i ,int(x) + 1] = 1\n",
    "\n",
    "    test_labels = []\n",
    "    with open(valid_labels) as f:\n",
    "        for line in f:\n",
    "            test_labels.append(int(line.strip()))\n",
    "\n",
    "    with open(test) as f:\n",
    "        for i, line in enumerate(f):\n",
    "            test_m += 1\n",
    "            \n",
    "            test_dataset[i, 0] = int(test_labels[i])\n",
    "\n",
    "            #  features set for later deleting null\n",
    "            for x in line.strip().split():\n",
    "                features.add(int(x))\n",
    "                test_dataset[i ,int(x) + 1] = 1\n",
    "\n",
    "\n",
    "\n",
    "\n",
    "    # cleaning a dataset a bit\n",
    "    train_dataset = np.delete(train_dataset,slice(train_m, 1000), 0)\n",
    "    test_dataset = np.delete(test_dataset,slice(test_m, 1000), 0)\n",
    "\n",
    "    not_features = {x for x in range(10000)} - features\n",
    "\n",
    "    not_features = list(map(lambda x: x+1, not_features))\n",
    "    \n",
    "    \n",
    "    train_dataset = np.delete(train_dataset,not_features, 1)\n",
    "    test_dataset = np.delete(test_dataset,not_features, 1)    \n",
    "\n",
    "    return train_dataset, test_dataset       \n"
   ]
  },
  {
   "cell_type": "code",
   "execution_count": 149,
   "metadata": {},
   "outputs": [
    {
     "data": {
      "text/plain": [
       "1.0"
      ]
     },
     "execution_count": 149,
     "metadata": {},
     "output_type": "execute_result"
    }
   ],
   "source": [
    "train_data, test_data = load_data('train.dat', 'test.dat', 'valid_labels.dat')\n",
    "\n",
    "train_x, train_y = train_data[:, 1:], train_data[:, 0]\n",
    "test_x, test_y = test_data[:, 1:], test_data[:, 0]\n",
    "\n",
    "test_data[2, 0]\n",
    "\n"
   ]
  },
  {
   "cell_type": "code",
   "execution_count": 148,
   "metadata": {},
   "outputs": [
    {
     "name": "stdout",
     "output_type": "stream",
     "text": [
      "1 's in test: 34.0\n",
      "1 's in predicted: 0.0\n",
      "Missmatched : 34\n"
     ]
    }
   ],
   "source": [
    "from sklearn.naive_bayes import GaussianNB\n",
    "\n",
    "\n",
    "gnb = GaussianNB()\n",
    "\n",
    "gnb.fit(train_x, train_y)\n",
    "\n",
    "y_pred = gnb.predict(test_x)\n",
    "\n",
    "print(\"1 's in test:\", test_y.sum())\n",
    "print(\"1 's in predicted:\", y_pred.sum())\n",
    "\n",
    "print(\"Missmatched :\", (y_pred != test_y).sum())"
   ]
  },
  {
   "cell_type": "code",
   "execution_count": 133,
   "metadata": {},
   "outputs": [
    {
     "data": {
      "text/plain": [
       "34"
      ]
     },
     "execution_count": 133,
     "metadata": {},
     "output_type": "execute_result"
    }
   ],
   "source": [
    "\n",
    "test_labels = []\n",
    "with open('valid_labels.dat') as f:\n",
    "    for line in f:\n",
    "        test_labels.append(int(line.strip()))\n",
    "\n",
    "sum(test_labels)   "
   ]
  }
 ],
 "metadata": {
  "kernelspec": {
   "display_name": "Python 3.10.6 64-bit",
   "language": "python",
   "name": "python3"
  },
  "language_info": {
   "codemirror_mode": {
    "name": "ipython",
    "version": 3
   },
   "file_extension": ".py",
   "mimetype": "text/x-python",
   "name": "python",
   "nbconvert_exporter": "python",
   "pygments_lexer": "ipython3",
   "version": "3.10.6"
  },
  "orig_nbformat": 4,
  "vscode": {
   "interpreter": {
    "hash": "6397bbcc4576163c68bf07a0a0352b5e88b814a978e2f67fad4e5577cec6be09"
   }
  }
 },
 "nbformat": 4,
 "nbformat_minor": 2
}
