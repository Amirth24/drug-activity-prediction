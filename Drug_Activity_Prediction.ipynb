{
 "cells": [
  {
   "cell_type": "code",
   "execution_count": 1,
   "metadata": {},
   "outputs": [],
   "source": [
    "import logging\n",
    "\n",
    "logging.basicConfig(\n",
    "    filename=\"model.log\",\n",
    "    format=\"%(asctime)s %(message)s\",\n",
    "    filemode=\"w\"\n",
    ")\n",
    "\n",
    "logger = logging.getLogger()\n",
    "logger.setLevel(logging.INFO)"
   ]
  },
  {
   "cell_type": "code",
   "execution_count": 2,
   "metadata": {},
   "outputs": [],
   "source": [
    "\n",
    "import pandas as pd\n",
    "import numpy as np\n",
    "from sklearn.decomposition import PCA\n",
    "from sklearn.pipeline import Pipeline\n",
    "from sklearn.naive_bayes import BernoulliNB # For binary features\n",
    "from sklearn.metrics import f1_score, confusion_matrix as cm\n",
    "from sklearn.model_selection import GridSearchCV\n",
    "from dotenv import  get_key, set_key\n",
    "logger.info(\"[New Session Created]\")\n"
   ]
  },
  {
   "cell_type": "markdown",
   "metadata": {},
   "source": [
    "## Extracting Datasets from Files"
   ]
  },
  {
   "cell_type": "code",
   "execution_count": 3,
   "metadata": {},
   "outputs": [],
   "source": [
    "def load_data(train, test, valid_labels):\n",
    "    features = set()\n",
    "    train_m = 0\n",
    "    test_m = 0\n",
    "\n",
    "    train_dataset = np.zeros(shape=(1000, 100002))\n",
    "    test_dataset = np.zeros(shape=(1000, 100002))\n",
    "\n",
    "    with open(train) as f:\n",
    "        for i, line in enumerate(f):\n",
    "            train_m += 1\n",
    "            \n",
    "            l = line.strip().split('\\t')\n",
    "\n",
    "            train_dataset[i, 0] = int(l[0])\n",
    "            # features set for later deletion null\n",
    "            for x in l[1].split():\n",
    "                features.add(int(x))\n",
    "                train_dataset[i ,int(x) + 1] = 1\n",
    "\n",
    "    test_labels = []\n",
    "    with open(valid_labels) as f:\n",
    "        for line in f:\n",
    "            test_labels.append(int(line.strip()))\n",
    "\n",
    "    with open(test) as f:\n",
    "        for i, line in enumerate(f):\n",
    "            test_m += 1\n",
    "            \n",
    "            test_dataset[i, 0] = int(test_labels[i])\n",
    "\n",
    "            #  features set for later deleting null\n",
    "            for x in line.strip().split():\n",
    "                features.add(int(x))\n",
    "                test_dataset[i ,int(x) + 1] = 1\n",
    "\n",
    "\n",
    "\n",
    "\n",
    "    # cleaning dataset a bit\n",
    "    train_dataset = np.delete(train_dataset,slice(train_m, 1000), 0)\n",
    "    test_dataset = np.delete(test_dataset,slice(test_m, 1000), 0)\n",
    "\n",
    "    not_features = {x for x in range(10000)} - features\n",
    "\n",
    "    not_features = list(map(lambda x: x+1, not_features))\n",
    "    \n",
    "    \n",
    "    train_dataset = np.delete(train_dataset,not_features, 1)\n",
    "    test_dataset = np.delete(test_dataset,not_features, 1)    \n",
    "\n",
    "    return train_dataset, test_dataset       \n"
   ]
  },
  {
   "cell_type": "markdown",
   "metadata": {},
   "source": [
    "## Loading Datasets"
   ]
  },
  {
   "cell_type": "code",
   "execution_count": 4,
   "metadata": {},
   "outputs": [],
   "source": [
    "train_data, test_data = load_data('train.dat', 'test.dat', 'valid_labels.dat')\n",
    "\n",
    "train_x, train_y = train_data[:, 1:], train_data[:, 0]\n",
    "test_x, test_y = test_data[:, 1:], test_data[:, 0]\n",
    "\n",
    "test_data[2, 0]\n",
    "logger.info(\"Loaded Dataset\")\n"
   ]
  },
  {
   "cell_type": "markdown",
   "metadata": {},
   "source": [
    "## The Pipeline"
   ]
  },
  {
   "cell_type": "code",
   "execution_count": 5,
   "metadata": {},
   "outputs": [],
   "source": [
    "pipe = Pipeline(\n",
    "    [\n",
    "        ('pca', PCA()),\n",
    "        ('bnb', BernoulliNB())  \n",
    "    ]\n",
    ")\n",
    "\n",
    "logger.info(\"Created Pipeline\")"
   ]
  },
  {
   "cell_type": "markdown",
   "metadata": {},
   "source": [
    "## Search for Best Hyperparameter\n",
    "\n",
    "    The only hyper parameter of this model is number of components, n_components, in the principle component analysis step of the pipe line.\n",
    "    Tuning and finding a better value increases the f1 score of the model.  \n",
    "\n",
    "    This process takes time as performing pca on large number of feature takes time and it is step that consumes large amount of time \n",
    "    during training."
   ]
  },
  {
   "cell_type": "markdown",
   "metadata": {},
   "source": [
    "### Linearly Search for hyper parameter"
   ]
  },
  {
   "cell_type": "code",
   "execution_count": 15,
   "metadata": {},
   "outputs": [],
   "source": [
    "\n",
    "best_score = 0.0\n",
    "pca_params = [490, 500, 501, 502, 510, 549, 550 ]\n",
    "\n",
    "msg = \"Started Linear search for hyper parameter: \\n\"\n",
    "for pca_param in pca_params:\n",
    "    pipe.set_params(pca__n_components=pca_param)\n",
    "    pipe.fit(train_x, train_y)\n",
    "    if f1_score(train_y, pipe.predict(train_x)) > best_score:\n",
    "        msg += \"\\t\\t\\t\\tBetter parameter found for pca__n_components {}, score : {}\\n\".format(pca_param, pipe.score(train_x, train_y))\n",
    "        best_pca_param = pca_param\n",
    "        best_score = pipe.score(train_x, train_y)\n",
    "logger.info(msg)\n"
   ]
  },
  {
   "cell_type": "markdown",
   "metadata": {},
   "source": [
    "### Using GridSearchCV"
   ]
  },
  {
   "cell_type": "code",
   "execution_count": 16,
   "metadata": {},
   "outputs": [],
   "source": [
    "logger.info(\"Started Grid Search CV\")\n",
    "cv_search = GridSearchCV(\n",
    "    pipe, \n",
    "    param_grid={\n",
    "        \"pca__n_components\" : pca_params,\n",
    "    },\n",
    "    scoring=\"f1\"\n",
    ")\n",
    "\n",
    "cv_search.fit(train_x, train_y)\n",
    "logger.info(\"Finished Grid Search CV, The best score is found to be {} for parameter {}\".format(cv_search.best_score_, cv_search.best_params_['pca__n_components']))\n"
   ]
  },
  {
   "cell_type": "code",
   "execution_count": 17,
   "metadata": {},
   "outputs": [],
   "source": [
    "record = pd.DataFrame(cv_search.cv_results_)\n",
    "record.to_csv(\"Last_train_record.csv\")\n",
    "logger.info(\"The Search Reusults are recorded in the csv file '.\\\\Last_train_record.csv'\")\n"
   ]
  },
  {
   "cell_type": "code",
   "execution_count": 18,
   "metadata": {},
   "outputs": [
    {
     "data": {
      "text/html": [
       "<div>\n",
       "<style scoped>\n",
       "    .dataframe tbody tr th:only-of-type {\n",
       "        vertical-align: middle;\n",
       "    }\n",
       "\n",
       "    .dataframe tbody tr th {\n",
       "        vertical-align: top;\n",
       "    }\n",
       "\n",
       "    .dataframe thead th {\n",
       "        text-align: right;\n",
       "    }\n",
       "</style>\n",
       "<table border=\"1\" class=\"dataframe\">\n",
       "  <thead>\n",
       "    <tr style=\"text-align: right;\">\n",
       "      <th></th>\n",
       "      <th>mean_fit_time</th>\n",
       "      <th>std_fit_time</th>\n",
       "      <th>mean_score_time</th>\n",
       "      <th>std_score_time</th>\n",
       "      <th>param_pca__n_components</th>\n",
       "      <th>params</th>\n",
       "      <th>split0_test_score</th>\n",
       "      <th>split1_test_score</th>\n",
       "      <th>split2_test_score</th>\n",
       "      <th>split3_test_score</th>\n",
       "      <th>split4_test_score</th>\n",
       "      <th>mean_test_score</th>\n",
       "      <th>std_test_score</th>\n",
       "      <th>rank_test_score</th>\n",
       "    </tr>\n",
       "  </thead>\n",
       "  <tbody>\n",
       "    <tr>\n",
       "      <th>0</th>\n",
       "      <td>31.813814</td>\n",
       "      <td>0.722734</td>\n",
       "      <td>0.427698</td>\n",
       "      <td>0.024493</td>\n",
       "      <td>490</td>\n",
       "      <td>{'pca__n_components': 490}</td>\n",
       "      <td>0.538462</td>\n",
       "      <td>0.482759</td>\n",
       "      <td>0.709677</td>\n",
       "      <td>0.571429</td>\n",
       "      <td>0.800000</td>\n",
       "      <td>0.620465</td>\n",
       "      <td>0.116862</td>\n",
       "      <td>3</td>\n",
       "    </tr>\n",
       "    <tr>\n",
       "      <th>1</th>\n",
       "      <td>32.613911</td>\n",
       "      <td>0.748980</td>\n",
       "      <td>0.453176</td>\n",
       "      <td>0.059361</td>\n",
       "      <td>500</td>\n",
       "      <td>{'pca__n_components': 500}</td>\n",
       "      <td>0.500000</td>\n",
       "      <td>0.482759</td>\n",
       "      <td>0.687500</td>\n",
       "      <td>0.571429</td>\n",
       "      <td>0.838710</td>\n",
       "      <td>0.616079</td>\n",
       "      <td>0.132595</td>\n",
       "      <td>5</td>\n",
       "    </tr>\n",
       "    <tr>\n",
       "      <th>2</th>\n",
       "      <td>32.205938</td>\n",
       "      <td>0.765549</td>\n",
       "      <td>0.416287</td>\n",
       "      <td>0.023044</td>\n",
       "      <td>501</td>\n",
       "      <td>{'pca__n_components': 501}</td>\n",
       "      <td>0.480000</td>\n",
       "      <td>0.466667</td>\n",
       "      <td>0.727273</td>\n",
       "      <td>0.620690</td>\n",
       "      <td>0.812500</td>\n",
       "      <td>0.621426</td>\n",
       "      <td>0.135399</td>\n",
       "      <td>2</td>\n",
       "    </tr>\n",
       "    <tr>\n",
       "      <th>3</th>\n",
       "      <td>33.176822</td>\n",
       "      <td>0.807912</td>\n",
       "      <td>0.451805</td>\n",
       "      <td>0.022107</td>\n",
       "      <td>502</td>\n",
       "      <td>{'pca__n_components': 502}</td>\n",
       "      <td>0.480000</td>\n",
       "      <td>0.466667</td>\n",
       "      <td>0.709677</td>\n",
       "      <td>0.600000</td>\n",
       "      <td>0.838710</td>\n",
       "      <td>0.619011</td>\n",
       "      <td>0.140984</td>\n",
       "      <td>4</td>\n",
       "    </tr>\n",
       "    <tr>\n",
       "      <th>4</th>\n",
       "      <td>31.972912</td>\n",
       "      <td>0.577439</td>\n",
       "      <td>0.432250</td>\n",
       "      <td>0.032379</td>\n",
       "      <td>510</td>\n",
       "      <td>{'pca__n_components': 510}</td>\n",
       "      <td>0.538462</td>\n",
       "      <td>0.482759</td>\n",
       "      <td>0.666667</td>\n",
       "      <td>0.620690</td>\n",
       "      <td>0.848485</td>\n",
       "      <td>0.631412</td>\n",
       "      <td>0.125870</td>\n",
       "      <td>1</td>\n",
       "    </tr>\n",
       "  </tbody>\n",
       "</table>\n",
       "</div>"
      ],
      "text/plain": [
       "   mean_fit_time  std_fit_time  mean_score_time  std_score_time  \\\n",
       "0      31.813814      0.722734         0.427698        0.024493   \n",
       "1      32.613911      0.748980         0.453176        0.059361   \n",
       "2      32.205938      0.765549         0.416287        0.023044   \n",
       "3      33.176822      0.807912         0.451805        0.022107   \n",
       "4      31.972912      0.577439         0.432250        0.032379   \n",
       "\n",
       "  param_pca__n_components                      params  split0_test_score  \\\n",
       "0                     490  {'pca__n_components': 490}           0.538462   \n",
       "1                     500  {'pca__n_components': 500}           0.500000   \n",
       "2                     501  {'pca__n_components': 501}           0.480000   \n",
       "3                     502  {'pca__n_components': 502}           0.480000   \n",
       "4                     510  {'pca__n_components': 510}           0.538462   \n",
       "\n",
       "   split1_test_score  split2_test_score  split3_test_score  split4_test_score  \\\n",
       "0           0.482759           0.709677           0.571429           0.800000   \n",
       "1           0.482759           0.687500           0.571429           0.838710   \n",
       "2           0.466667           0.727273           0.620690           0.812500   \n",
       "3           0.466667           0.709677           0.600000           0.838710   \n",
       "4           0.482759           0.666667           0.620690           0.848485   \n",
       "\n",
       "   mean_test_score  std_test_score  rank_test_score  \n",
       "0         0.620465        0.116862                3  \n",
       "1         0.616079        0.132595                5  \n",
       "2         0.621426        0.135399                2  \n",
       "3         0.619011        0.140984                4  \n",
       "4         0.631412        0.125870                1  "
      ]
     },
     "execution_count": 18,
     "metadata": {},
     "output_type": "execute_result"
    }
   ],
   "source": [
    "record.head()"
   ]
  },
  {
   "cell_type": "markdown",
   "metadata": {},
   "source": [
    "## Making Prediction"
   ]
  },
  {
   "cell_type": "code",
   "execution_count": 19,
   "metadata": {},
   "outputs": [
    {
     "name": "stdout",
     "output_type": "stream",
     "text": [
      "F1 Score : 0.71875\n"
     ]
    }
   ],
   "source": [
    "best_param = cv_search.best_params_['pca__n_components']\n",
    "pipe.set_params(pca__n_components=best_param)\n",
    "pipe.fit(train_x, train_y)\n",
    "\n",
    "y_pred_test = pipe.predict(test_x)\n",
    "\n",
    "\n",
    "score = f1_score( test_y, y_pred_test)\n",
    "\n",
    "if score < float(get_key('./.env','OVERALL_BEST_SCORE')):\n",
    "    best_param = int(get_key('./.env','OVERALL_BEST_PARAM'))\n",
    "    pipe.set_params(pca__n_components=best_param)\n",
    "    pipe.fit(train_x, train_y)\n",
    "    score = float(get_key('./.env','OVERALL_BEST_SCORE'))\n",
    "\n",
    "else:\n",
    "    set_key('./.env', 'OVERALL_BEST_SCORE', score)\n",
    "    set_key('./.env', 'OVERALL_BEST_PARAM', best_param) \n",
    "\n",
    "    \n",
    "print(\"F1 Score :\", score)\n",
    "logger.info(\"The F1 Score of the model : {}, for pca__n_components {}\".format(score, best_param))\n",
    "\n"
   ]
  },
  {
   "cell_type": "markdown",
   "metadata": {},
   "source": [
    "## Plotting Results"
   ]
  },
  {
   "cell_type": "code",
   "execution_count": 13,
   "metadata": {},
   "outputs": [],
   "source": [
    "\n",
    "import seaborn as sns\n",
    "import matplotlib.pyplot as plt"
   ]
  },
  {
   "cell_type": "code",
   "execution_count": 14,
   "metadata": {},
   "outputs": [
    {
     "data": {
      "image/png": "[encoded data removed]",
      "text/plain": [
       "<Figure size 1000x400 with 4 Axes>"
      ]
     },
     "metadata": {},
     "output_type": "display_data"
    }
   ],
   "source": [
    "confusion_matrix_test = cm(test_y, y_pred_test)\n",
    "\n",
    "\n",
    "group_names = [\"True Neg\", \"False Pos\", \"False Neg\", \"True Pos\"]\n",
    "group_counts_test = [\"{0:0.0f}\".format(val) for val in confusion_matrix_test.flatten()]\n",
    "group_counts_test = [\"{0:0.0f}\".format(val) for val in confusion_matrix_test.flatten()/test_y.shape[0]]\n",
    "\n",
    "\n",
    "\n",
    "fig, axes = plt.subplots(1,2, sharex= True, sharey=True, figsize=(10, 4))\n",
    "fig.suptitle(\"The Confusion matrix\")\n",
    "\n",
    "\n",
    "axes[0].set_title(\"Count\")\n",
    "\n",
    "sns.heatmap(\n",
    "    confusion_matrix_test,\n",
    "    ax=axes[0],\n",
    "    annot=True,\n",
    ")\n",
    "\n",
    "\n",
    "axes[1].set_title(\"Percentage\")\n",
    "\n",
    "sns.heatmap(\n",
    "    confusion_matrix_test/test_y.shape[0],\n",
    "    ax=axes[1],\n",
    "    fmt=\".2%\",\n",
    "    annot=True,\n",
    ")\n",
    "\n",
    "plt.show()"
   ]
  },
  {
   "cell_type": "code",
   "execution_count": null,
   "metadata": {},
   "outputs": [],
   "source": []
  }
 ],
 "metadata": {
  "kernelspec": {
   "display_name": "Python 3.10.6 64-bit",
   "language": "python",
   "name": "python3"
  },
  "language_info": {
   "codemirror_mode": {
    "name": "ipython",
    "version": 3
   },
   "file_extension": ".py",
   "mimetype": "text/x-python",
   "name": "python",
   "nbconvert_exporter": "python",
   "pygments_lexer": "ipython3",
   "version": "3.10.6"
  },
  "orig_nbformat": 4,
  "vscode": {
   "interpreter": {
    "hash": "6397bbcc4576163c68bf07a0a0352b5e88b814a978e2f67fad4e5577cec6be09"
   }
  }
 },
 "nbformat": 4,
 "nbformat_minor": 2
}
